{
  "metadata": {
    "kernelspec": {
      "language": "python",
      "display_name": "Python 3",
      "name": "python3"
    },
    "language_info": {
      "name": "python",
      "version": "3.10.14",
      "mimetype": "text/x-python",
      "codemirror_mode": {
        "name": "ipython",
        "version": 3
      },
      "pygments_lexer": "ipython3",
      "nbconvert_exporter": "python",
      "file_extension": ".py"
    },
    "kaggle": {
      "accelerator": "none",
      "dataSources": [],
      "dockerImageVersionId": 30786,
      "isInternetEnabled": true,
      "language": "python",
      "sourceType": "notebook",
      "isGpuEnabled": false
    },
    "colab": {
      "name": "Python Small Project | Password Generator",
      "provenance": [],
      "include_colab_link": true
    }
  },
  "nbformat_minor": 0,
  "nbformat": 4,
  "cells": [
    {
      "cell_type": "markdown",
      "metadata": {
        "id": "view-in-github",
        "colab_type": "text"
      },
      "source": [
        "<a href=\"https://colab.research.google.com/github/Usman-12478/Python-Small-Project-Password-Generator/blob/main/Python%20Small%20Project%20%7C%20Password%20Generator.ipynb\" target=\"_parent\"><img src=\"https://colab.research.google.com/assets/colab-badge.svg\" alt=\"Open In Colab\"/></a>"
      ]
    },
    {
      "cell_type": "code",
      "source": [
        "import random\n",
        "import string"
      ],
      "metadata": {
        "_uuid": "8f2839f25d086af736a60e9eeb907d3b93b6e0e5",
        "_cell_guid": "b1076dfc-b9ad-4769-8c92-a6c4dae69d19",
        "trusted": true,
        "execution": {
          "iopub.status.busy": "2024-10-12T06:39:51.104379Z",
          "iopub.execute_input": "2024-10-12T06:39:51.105422Z",
          "iopub.status.idle": "2024-10-12T06:39:51.110632Z",
          "shell.execute_reply.started": "2024-10-12T06:39:51.105371Z",
          "shell.execute_reply": "2024-10-12T06:39:51.109133Z"
        },
        "id": "lwX7Zq1ZfqBz"
      },
      "outputs": [],
      "execution_count": 1
    },
    {
      "cell_type": "code",
      "source": [
        "def generate_password(length):\n",
        "    all_characters = string.ascii_letters + string.digits + string.punctuation\n",
        "    if length < 8:\n",
        "        print(\"Password Length should be at least 8 characters!!\")\n",
        "        return None\n",
        "\n",
        "    password = ''.join(random.choice(all_characters) for i in range(length))\n",
        "    return password\n",
        ""
      ],
      "metadata": {
        "trusted": true,
        "execution": {
          "iopub.status.busy": "2024-10-12T06:43:43.862598Z",
          "iopub.execute_input": "2024-10-12T06:43:43.863049Z",
          "iopub.status.idle": "2024-10-12T06:43:43.871405Z",
          "shell.execute_reply.started": "2024-10-12T06:43:43.86301Z",
          "shell.execute_reply": "2024-10-12T06:43:43.869789Z"
        },
        "id": "O9XN5JEVfqB6"
      },
      "outputs": [],
      "execution_count": 2
    },
    {
      "cell_type": "code",
      "source": [
        "length = int(input(\"Enter The length of Password: \"))\n",
        "print(\"Generated Password: \", generate_password(length))"
      ],
      "metadata": {
        "trusted": true,
        "execution": {
          "iopub.status.busy": "2024-10-12T06:43:45.210103Z",
          "iopub.execute_input": "2024-10-12T06:43:45.210575Z",
          "iopub.status.idle": "2024-10-12T06:43:49.170054Z",
          "shell.execute_reply.started": "2024-10-12T06:43:45.210532Z",
          "shell.execute_reply": "2024-10-12T06:43:49.168765Z"
        },
        "id": "Loq_RzZFfqB8",
        "outputId": "d13726c8-cbcc-464b-be98-bb8410b1368b",
        "colab": {
          "base_uri": "https://localhost:8080/"
        }
      },
      "outputs": [
        {
          "output_type": "stream",
          "name": "stdout",
          "text": [
            "Enter The length of Password: 9\n",
            "Generated Password:  UR;hM5wJ?\n"
          ]
        }
      ],
      "execution_count": 3
    },
    {
      "cell_type": "code",
      "source": [],
      "metadata": {
        "trusted": true,
        "id": "X3kKeMDOfqB9"
      },
      "outputs": [],
      "execution_count": null
    }
  ]
}